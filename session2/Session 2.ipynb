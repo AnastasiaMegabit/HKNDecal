{
 "cells": [
  {
   "cell_type": "code",
   "execution_count": 2,
   "metadata": {
    "collapsed": false
   },
   "outputs": [
    {
     "name": "stdout",
     "output_type": "stream",
     "text": [
      "Populating the interactive namespace from numpy and matplotlib\n"
     ]
    }
   ],
   "source": [
    "from __future__ import print_function\n",
    "from IPython.display import Audio\n",
    "from scipy.misc import face\n",
    "from scipy.io import wavfile\n",
    "from scipy import signal\n",
    "from os.path import getsize\n",
    "import util\n",
    "%pylab inline"
   ]
  },
  {
   "cell_type": "markdown",
   "metadata": {
    "collapsed": false
   },
   "source": [
    "  This is an iPython notebook. iPython makes it easy to run small snippets in\n",
    "  Python code to see what happens! Here are some useful commands to use:\n",
    "   \n",
    "  1. Click on a cell (will have a green outline around it) and press\n",
    "      SHIFT+ENTER to run the code in the cell. Make sure you run the top cell\n",
    "      first, because it contains important import statements!\n",
    "      \n",
    "  2. You can also run a cell, or all the cells, using the 'Cell' menu up top.\n",
    "  \n",
    "  3. Save your work with CTRL+S, or in the File menu.\n",
    "  \n",
    "  If you have any questions, just ask!"
   ]
  },
  {
   "cell_type": "markdown",
   "metadata": {},
   "source": [
    "# Section 1 - Images"
   ]
  },
  {
   "cell_type": "markdown",
   "metadata": {},
   "source": [
    "For the following section, create some pixel art in greyscale. That means\n",
    "using numbers from 0-1, 0 being totally black and 1 being totally white.\n",
    "\n",
    "Don't spend tooooo much time on this, but make sure your picture has some\n",
    "different shades of grey. Press SHIFT+ENTER while hovering on this cell to\n",
    "update your changes."
   ]
  },
  {
   "cell_type": "code",
   "execution_count": 120,
   "metadata": {
    "collapsed": false
   },
   "outputs": [
    {
     "data": {
      "text/plain": [
       "<matplotlib.figure.Figure at 0x19b9e748>"
      ]
     },
     "execution_count": 120,
     "metadata": {},
     "output_type": "execute_result"
    },
    {
     "data": {
      "image/png": "[encoded data removed]",
      "text/plain": [
       "<matplotlib.figure.Figure at 0x19b9e7f0>"
      ]
     },
     "metadata": {},
     "output_type": "display_data"
    },
    {
     "data": {
      "text/plain": [
       "<matplotlib.figure.Figure at 0x19b9e748>"
      ]
     },
     "metadata": {},
     "output_type": "display_data"
    }
   ],
   "source": [
    "# Feel free to modify the numbers below to change the colors\n",
    "my_image = np.array(\n",
    "    [\n",
    "        [1, 0.75, 0.5, 0.25, 0.0, 0.0, 0.0, 0.0],\n",
    "        [0.0, 0.0, 0.0, 0.0, 0.0, 0.0, 0.0, 0.0],\n",
    "        [0.0, 0.0, 0.0, 0.0, 0.0, 0.0, 0.0, 0.1],\n",
    "        [0.0, 0.0, 0.0, 0.0, 0.0, 0.0, 0.1, 0.2],\n",
    "        [0.0, 0.0, 0.0, 0.0, 0.0, 0.1, 0.2, 0.3],\n",
    "        [0.0, 0.0, 0.0, 0.0, 0.1, 0.2, 0.3, 0.4],\n",
    "        [0.0, 0.0, 0.0, 0.1, 0.2, 0.3, 0.4, 0.5],\n",
    "        [0.0, 0.0, 0.1, 0.2, 0.3, 0.4, 0.5, 0.6],\n",
    "    ],\n",
    "    dtype=np.float\n",
    ")\n",
    "plt.imshow(my_image, cmap=\"gray\", interpolation='none')\n",
    "plt.figure()"
   ]
  },
  {
   "cell_type": "markdown",
   "metadata": {},
   "source": [
    "Now that we have an image, we can make modifications to it by changing each pixel's value in a systematic way. We can brighten, darken, change the white balance, or overlay images on top of each other using some simple lines of code. Let's apply some transformations to your image! Try to guess what each code block is doing before you run it."
   ]
  },
  {
   "cell_type": "code",
   "execution_count": 101,
   "metadata": {
    "collapsed": false
   },
   "outputs": [],
   "source": [
    "# this is the first transformation. Run the code block when you're ready.\n",
    "\n",
    "my_image2 = np.array(my_image, copy=True)\n",
    "\n",
    "for row_index, row in enumerate(my_image2):\n",
    "    for pixel_index, pixel in enumerate(row):\n",
    "        my_image2[row_index][pixel_index] = 1 if pixel > .5 else 0 # this is the important part!\n",
    "                                                                   # what does it do?\n",
    "    \n",
    "print(\".ot resolc saw ti eno hcihw no desab ,etihw ro kcalb rehtie ot lexip hcae strevnoc noitamrofsnart\\\n",
    " siht rof edoc ehT\"[::-1])\n",
    "\n",
    "plt.imshow(my_image2, cmap=\"gray\", interpolation='none')\n",
    "plt.figure()"
   ]
  },
  {
   "cell_type": "code",
   "execution_count": 95,
   "metadata": {
    "collapsed": false
   },
   "outputs": [
    {
     "name": "stdout",
     "output_type": "stream",
     "text": [
      "[[ 1.    1.    1.    0.75  0.5   0.5   0.5   0.5 ]\n",
      " [ 0.5   0.5   0.5   0.5   0.5   0.5   0.5   0.5 ]\n",
      " [ 0.5   0.5   0.5   0.5   0.5   0.5   0.5   0.5 ]\n",
      " [ 0.5   0.5   0.5   0.5   0.5   0.5   0.5   0.5 ]\n",
      " [ 0.5   0.5   0.5   0.5   0.5   0.5   0.5   0.5 ]\n",
      " [ 0.5   0.5   0.5   0.5   0.5   0.5   0.5   0.5 ]\n",
      " [ 0.5   0.5   0.5   0.5   0.5   0.5   0.5   0.5 ]\n",
      " [ 0.5   0.5   0.5   0.5   0.5   0.5   0.5   0.5 ]]\n",
      "This one is a lightening filter. It takes each number and adds a constant amount to it! Try changing the my_filter variable or even making it positive. What do you think will happen?\n"
     ]
    },
    {
     "data": {
      "text/plain": [
       "<matplotlib.figure.Figure at 0x172a9f60>"
      ]
     },
     "execution_count": 95,
     "metadata": {},
     "output_type": "execute_result"
    },
    {
     "data": {
      "image/png": "[encoded data removed]",
      "text/plain": [
       "<matplotlib.figure.Figure at 0x172a9cc0>"
      ]
     },
     "metadata": {},
     "output_type": "display_data"
    },
    {
     "data": {
      "text/plain": [
       "<matplotlib.figure.Figure at 0x172a9f60>"
      ]
     },
     "metadata": {},
     "output_type": "display_data"
    }
   ],
   "source": [
    "# how about this one?\n",
    "# FIXME????\n",
    "\n",
    "my_image3 = np.array(my_image, copy=True)\n",
    "\n",
    "my_filter = .5\n",
    "\n",
    "for row_index, row in enumerate(my_image3):\n",
    "    for pixel_index, pixel in enumerate(row):\n",
    "        #print(pixel, pixel+my_filter, min(max(pixel + my_filter, 0), 1))\n",
    "        my_image3[row_index][pixel_index] = min(max(pixel + my_filter, 0), 1) #money line right here\n",
    "\n",
    "print(my_image3)\n",
    "\n",
    "print(\"?neppah lliw kniht uoy od tahW .evitisop ti gnikam neve ro elbairav retlif_ym eht gnignahc\\\n",
    " yrT !ti ot tnuoma tnatsnoc a sdda dna rebmun hcae sekat tI .retlif gninethgil a si eno sihT\"[::-1])\n",
    "\n",
    "plt.imshow(my_image3, cmap=\"gray\", interpolation='none')\n",
    "plt.figure()"
   ]
  },
  {
   "cell_type": "markdown",
   "metadata": {},
   "source": [
    "What if I wanted to make put a watermark or a YouTube annotation on the image? I have to overlay my image on top of your image. Let's say that my annotation, which is 9 pixels, looks like this:"
   ]
  },
  {
   "cell_type": "code",
   "execution_count": 147,
   "metadata": {
    "collapsed": false
   },
   "outputs": [
    {
     "data": {
      "text/plain": [
       "<matplotlib.image.AxesImage at 0x1b3ea080>"
      ]
     },
     "execution_count": 147,
     "metadata": {},
     "output_type": "execute_result"
    },
    {
     "data": {
      "image/png": "[encoded data removed]",
      "text/plain": [
       "<matplotlib.figure.Figure at 0x1b2e4ef0>"
      ]
     },
     "metadata": {},
     "output_type": "display_data"
    }
   ],
   "source": [
    "annotation = np.array([[0.4, 1.0, 0.5],\n",
    "                       [1.0, 0.5, 1.0],\n",
    "                       [0.5, 1.0, 0.6]],\n",
    "                     dtype=float)\n",
    "plt.imshow(annotation, cmap=\"gray\", interpolation='none')"
   ]
  },
  {
   "cell_type": "markdown",
   "metadata": {},
   "source": [
    "Overlaying the images takes a couple steps. First, I have to create an image that is totally blank except for my annotation, exactly where I want it. Then I will remove the parts of your image that take up the same space as my annoation (this is called an AND mask). Now there is no overlapping of images. For the final step, I will \"add\" the two images together (OR mask). The final result will have your image with my annotation in the corner!"
   ]
  },
  {
   "cell_type": "code",
   "execution_count": 108,
   "metadata": {
    "collapsed": false
   },
   "outputs": [
    {
     "name": "stdout",
     "output_type": "stream",
     "text": [
      "\n",
      "\n",
      "Here is an image with all zeros except for my annotation:\n",
      "\n"
     ]
    },
    {
     "data": {
      "text/plain": [
       "<matplotlib.image.AxesImage at 0x198b8a20>"
      ]
     },
     "execution_count": 108,
     "metadata": {},
     "output_type": "execute_result"
    },
    {
     "data": {
      "image/png": "[encoded data removed]",
      "text/plain": [
       "<matplotlib.figure.Figure at 0x19909c50>"
      ]
     },
     "metadata": {},
     "output_type": "display_data"
    }
   ],
   "source": [
    "print(\"\\n\\nHere is an image with all zeros except for my annotation:\\n\")\n",
    "\n",
    "annotation_in_corner = np.array(\n",
    "    [\n",
    "        [0.0, 0.0, 0.0, 0.0, 0.0, 0.0, 0.0, 0.0],\n",
    "        [0.0, 0.0, 0.0, 0.0, 0.0, 0.0, 0.0, 0.0],\n",
    "        [0.0, 0.0, 0.0, 0.0, 0.0, 0.0, 0.0, 0.0],\n",
    "        [0.0, 0.0, 0.0, 0.0, 0.0, 0.0, 0.0, 0.0],\n",
    "        [0.0, 0.0, 0.0, 0.0, 0.0, 0.0, 0.0, 0.0],\n",
    "        [0.0, 0.0, 0.0, 0.0, 0.0, 0.0, 1.0, 0.0],\n",
    "        [0.0, 0.0, 0.0, 0.0, 0.0, 1.0, 0.0, 1.0],\n",
    "        [0.0, 0.0, 0.0, 0.0, 0.0, 0.0, 1.0, 0.0],\n",
    "    ],\n",
    "    dtype=np.float\n",
    ")\n",
    "plt.imshow(annotation_in_corner, cmap=\"gray\", interpolation='none')"
   ]
  },
  {
   "cell_type": "code",
   "execution_count": 117,
   "metadata": {
    "collapsed": false
   },
   "outputs": [
    {
     "name": "stdout",
     "output_type": "stream",
     "text": [
      "\n",
      "This bitmask will keep all of the pixels of your image except for the bottom 9 in the corner when I multiply it with your image. In effect, the pixel is nonzero if my pixel AND yours are nonzero.\n"
     ]
    },
    {
     "data": {
      "text/plain": [
       "<matplotlib.image.AxesImage at 0x19a9a908>"
      ]
     },
     "execution_count": 117,
     "metadata": {},
     "output_type": "execute_result"
    },
    {
     "data": {
      "image/png": "[encoded data removed]",
      "text/plain": [
       "<matplotlib.figure.Figure at 0x19972ba8>"
      ]
     },
     "metadata": {},
     "output_type": "display_data"
    }
   ],
   "source": [
    "print(\"\\nThis bitmask will keep all of the pixels of your image except for the bottom 9 in the corner\\\n",
    " when I multiply it with your image. In effect, the pixel is nonzero if my pixel AND yours are nonzero.\")\n",
    "\n",
    "bitmask = np.array(\n",
    "    [\n",
    "        [1.0, 1.0, 1.0, 1.0, 1.0, 1.0, 1.0, 1.0],\n",
    "        [1.0, 1.0, 1.0, 1.0, 1.0, 1.0, 1.0, 1.0],\n",
    "        [1.0, 1.0, 1.0, 1.0, 1.0, 1.0, 1.0, 1.0],\n",
    "        [1.0, 1.0, 1.0, 1.0, 1.0, 1.0, 1.0, 1.0],\n",
    "        [1.0, 1.0, 1.0, 1.0, 1.0, 1.0, 1.0, 1.0],\n",
    "        [1.0, 1.0, 1.0, 1.0, 1.0, 0.0, 0.0, 0.0],\n",
    "        [1.0, 1.0, 1.0, 1.0, 1.0, 0.0, 0.0, 0.0],\n",
    "        [1.0, 1.0, 1.0, 1.0, 1.0, 0.0, 0.0, 0.0],\n",
    "    ],\n",
    "    dtype=np.float\n",
    ")\n",
    "\n",
    "plt.imshow(bitmask, cmap=\"gray\", interpolation='none')"
   ]
  },
  {
   "cell_type": "code",
   "execution_count": 122,
   "metadata": {
    "collapsed": false
   },
   "outputs": [
    {
     "name": "stdout",
     "output_type": "stream",
     "text": [
      "\n",
      "Now, let's multiply my bitmask and your image together! This is what the array looks like:\n",
      "\n",
      "[[ 1.    0.75  0.5   0.25  0.    0.    0.    0.  ]\n",
      " [ 0.    0.    0.    0.    0.    0.    0.    0.  ]\n",
      " [ 0.    0.    0.    0.    0.    0.    0.    0.1 ]\n",
      " [ 0.    0.    0.    0.    0.    0.    0.1   0.2 ]\n",
      " [ 0.    0.    0.    0.    0.    0.1   0.2   0.3 ]\n",
      " [ 0.    0.    0.    0.    0.1   0.    0.    0.  ]\n",
      " [ 0.    0.    0.    0.1   0.2   0.    0.    0.  ]\n",
      " [ 0.    0.    0.1   0.2   0.3   0.    0.    0.  ]]\n"
     ]
    },
    {
     "data": {
      "text/plain": [
       "<matplotlib.image.AxesImage at 0x1abb7940>"
      ]
     },
     "execution_count": 122,
     "metadata": {},
     "output_type": "execute_result"
    },
    {
     "data": {
      "image/png": "[encoded data removed]",
      "text/plain": [
       "<matplotlib.figure.Figure at 0x19b0b358>"
      ]
     },
     "metadata": {},
     "output_type": "display_data"
    }
   ],
   "source": [
    "print(\"\\nNow, let's multiply my bitmask and your image together! This is what the array looks like:\\n\")\n",
    "\n",
    "my_image_masked = np.multiply(my_image, bitmask)\n",
    "print(my_image_masked)\n",
    "plt.imshow(my_image_masked, cmap=\"gray\", interpolation='none')"
   ]
  },
  {
   "cell_type": "code",
   "execution_count": null,
   "metadata": {
    "collapsed": true
   },
   "outputs": [],
   "source": [
    "print(\"Finally, let's create the end image!\")"
   ]
  },
  {
   "cell_type": "markdown",
   "metadata": {},
   "source": [
    "Now let's work with a real image. This image has way more pixels than your pixel art, but the\n",
    "structure is exactly the same! [note: not *exactly* the same, because the numbers are now from 0-255.] Let's apply some of the same \"filters\" that we applied to your pixel art. We'll start with a greyscale version."
   ]
  },
  {
   "cell_type": "code",
   "execution_count": 35,
   "metadata": {
    "collapsed": false
   },
   "outputs": [],
   "source": [
    "raccoon_gray = face(True)\n",
    "plt.imshow(raccoon_gray, cmap=\"gray\", interpolation='none')"
   ]
  },
  {
   "cell_type": "code",
   "execution_count": 34,
   "metadata": {
    "collapsed": false
   },
   "outputs": [],
   "source": [
    "# Run this code to apply the black and white filter\n",
    "\n",
    "for row_index, row in enumerate(raccoon_gray):\n",
    "    for pixel_index, pixel in enumerate(row):\n",
    "        raccoon_gray[row_index][pixel_index] = 255 if pixel > 128 else 0\n",
    "        \n",
    "plt.imshow(raccoon_gray, cmap=\"gray\", interpolation='none')"
   ]
  },
  {
   "cell_type": "code",
   "execution_count": 89,
   "metadata": {
    "collapsed": false
   },
   "outputs": [],
   "source": [
    "# Run this code to apply the darkening and lightening filter.\n",
    "\n",
    "raccoon_gray = face(True)\n",
    "\n",
    "# add a darkening (negative) or lightening (positive) amount here!\n",
    "# remember that the values range from 0-255 now.\n",
    "my_filter = \n",
    "\n",
    "\n",
    "for row_index, row in enumerate(raccoon_gray):\n",
    "    for pixel_index, pixel in enumerate(row):\n",
    "        raccoon_gray[row_index][pixel_index] = min(max(pixel + my_filter, 0), 255)   \n",
    "\n",
    "plt.imshow(raccoon_gray, cmap=\"gray\", interpolation='none')"
   ]
  },
  {
   "cell_type": "markdown",
   "metadata": {},
   "source": [
    "For our final step, let's work with color. Now, instead of there being one number for each pixel, there are three. These are the Red, Green, and Blue (RGB) values that you've probably heard of. We can manipulate these values in a similar way as with greyscale, but now we have even more creative control. Let's give our raccoon a nice Instagram filter."
   ]
  },
  {
   "cell_type": "code",
   "execution_count": 31,
   "metadata": {
    "collapsed": false
   },
   "outputs": [],
   "source": [
    "# First, view the original picture in all its glory!\n",
    "\n",
    "plt.imshow(face())\n",
    "# Notice that each \"item\" of the data grid is now 3 values\n",
    "# corresponding to Red, Green, and Blue values between 0 and 255\n",
    "# The code below prints the top left corner, in a 3x3 region\n",
    "print(face()[:3, :3, ...])"
   ]
  },
  {
   "cell_type": "code",
   "execution_count": 33,
   "metadata": {
    "collapsed": false
   },
   "outputs": [],
   "source": [
    "# Now, it's time to modify the color values. We will boost some colors by increasing their magnitude.\n",
    "\n",
    "raccoon = face()\n",
    "\n",
    "# play around with these values if you want!\n",
    "red_boost = -10\n",
    "green_boost = 45\n",
    "blue_boost = 30\n",
    "lighten = -20\n",
    "\n",
    "# darken or lighten the image a little bit.\n",
    "red_boost += lighten\n",
    "green_boost += lighten\n",
    "blue_boost += lighten\n",
    "\n",
    "for row_index, row in enumerate(raccoon):\n",
    "    for pixel_index, pixel in enumerate(row):\n",
    "        # at this point, pixel is a length-3 array corresponding to the R, G, and B values of the pixel\n",
    "        \n",
    "        # change the color balance and make sure all values are between 0 and 255\n",
    "        pixel[0] = min(max(pixel[0] + red_boost, 0), 255)\n",
    "        pixel[1] = min(max(pixel[1] + green_boost, 0), 255)\n",
    "        pixel[2] = min(max(pixel[2] + blue_boost, 0), 255)\n",
    "            \n",
    "plt.imshow(raccoon)"
   ]
  },
  {
   "cell_type": "markdown",
   "metadata": {},
   "source": [
    "# Section 2 - Audio"
   ]
  },
  {
   "cell_type": "markdown",
   "metadata": {},
   "source": [
    "Plays a simple A chord for 1 second"
   ]
  },
  {
   "cell_type": "code",
   "execution_count": null,
   "metadata": {
    "collapsed": false,
    "scrolled": false
   },
   "outputs": [],
   "source": [
    "frequencies = [440, 554.37, 659.25]\n",
    "samplerate = 44100\n",
    "\n",
    "samples = np.asarray([np.sin(np.linspace(0, 2 * np.pi * frequency, samplerate)) for frequency in frequencies])\n",
    "Audio(np.concatenate(list(samples) + [np.sum(samples, axis=0)]), rate=samplerate)"
   ]
  },
  {
   "cell_type": "code",
   "execution_count": null,
   "metadata": {
    "collapsed": true
   },
   "outputs": [],
   "source": [
    "datarate = samplerate\n",
    "data = np.sum(samples, axis=0)\n",
    "# data = samples[1]"
   ]
  },
  {
   "cell_type": "code",
   "execution_count": null,
   "metadata": {
    "collapsed": false,
    "scrolled": true
   },
   "outputs": [],
   "source": [
    "plt.plot(range(len(data)), data, label=\"Intensity\", alpha=0.3)\n",
    "plt.title(\"Time Domain Intensities\")\n",
    "plt.legend()"
   ]
  },
  {
   "cell_type": "markdown",
   "metadata": {},
   "source": [
    "To visualize the frequencies of the piece, we will convert 0.1s \"chunks\" of the song into the frequency domain."
   ]
  },
  {
   "cell_type": "code",
   "execution_count": null,
   "metadata": {
    "collapsed": false
   },
   "outputs": [],
   "source": [
    "plt.imshow(20*np.log10(util.to_chunks(data, 1, datarate))[:1000], interpolation=\"none\", aspect=\"auto\", cmap='spectral')"
   ]
  },
  {
   "cell_type": "markdown",
   "metadata": {
    "collapsed": false
   },
   "source": [
    "Now we can create a \"flat\" sounding rendition of a song using frequencies"
   ]
  },
  {
   "cell_type": "code",
   "execution_count": null,
   "metadata": {
    "collapsed": false
   },
   "outputs": [],
   "source": [
    "# Re-run me after modifying lullaby\n",
    "length = 256\n",
    "sampling_rate = 44100*16\n",
    "\n",
    "# Change this to change the number of beats per minute\n",
    "beats_per_minute = 100\n",
    "\n",
    "song = util.load_song(\"lullaby.txt\") # change the file name to whatever you created\n",
    "frequencies = util.song_to_frequencies(song)\n",
    "\n",
    "# Replace the names with the part names you chose\n",
    "song_parts = [\"melody\", \"harmony\", \"left_hand_high\", \"left_hand_low\"]\n",
    "song_data = sum(util.frequencies_to_stream(frequencies[name], sampling_rate, beats_per_minute) for name in song_parts)\n",
    "Audio(util.smooth(song_data, 256)[::(sampling_rate/44100)], rate=44100)"
   ]
  },
  {
   "cell_type": "code",
   "execution_count": null,
   "metadata": {
    "collapsed": false
   },
   "outputs": [],
   "source": [
    "# Re-run me after modifying lullaby\n",
    "\n",
    "sheet_music = np.log10(util.to_chunks(song_data, 1, datarate) + 0.001)[:120][::-1]\n",
    "plt.imshow(sheet_music, interpolation=\"none\", aspect=\"auto\", cmap='spectral')"
   ]
  },
  {
   "cell_type": "code",
   "execution_count": null,
   "metadata": {
    "collapsed": false
   },
   "outputs": [],
   "source": [
    "print(\"Sheet music size:\", song_data.nbytes, \"bytes\")\n",
    "print(\"Audio data size:\", getsize(\"lullaby.txt\"), \"bytes\")\n",
    "print(\"Total compression ratio:\", song_data.nbytes / float(getsize(\"lullaby.txt\")))"
   ]
  },
  {
   "cell_type": "markdown",
   "metadata": {},
   "source": [
    "Try modifying the file \"lullaby.txt\" with your own notes or writing your own file!\n",
    "\n",
    "Notes are written in standard notation (i.e. Bb3) means the third B-flat. Rests are written as N.\n",
    "\n",
    "Ab3 4 means play the third A-flat for 4 beats.\n",
    "\n",
    "Each part must have the same number of beats."
   ]
  },
  {
   "cell_type": "raw",
   "metadata": {},
   "source": [
    "[part_name_1]\n",
    "notes\n",
    "\n",
    "[part_name_2]\n",
    "notes"
   ]
  },
  {
   "cell_type": "markdown",
   "metadata": {},
   "source": [
    "Run the previous two sections of the notebook again, replacing \"melody\", \"harmony\" and the other names with your part names."
   ]
  },
  {
   "cell_type": "markdown",
   "metadata": {},
   "source": [
    "## Dictionary Based Encoding example"
   ]
  },
  {
   "cell_type": "code",
   "execution_count": null,
   "metadata": {
    "collapsed": false
   },
   "outputs": [],
   "source": [
    "dictionary = util.load_dictionary(\"dictionary.txt\")\n",
    "encoded = util.encode(\"Hello Johnny the Chicken\", dictionary)\n",
    "print(\"Encoded:\", encoded)\n",
    "decoded = util.decode(encoded, dictionary)\n",
    "print(\"Decoded:\", decoded)"
   ]
  },
  {
   "cell_type": "markdown",
   "metadata": {},
   "source": [
    "## Networking"
   ]
  },
  {
   "cell_type": "code",
   "execution_count": 98,
   "metadata": {
    "collapsed": false
   },
   "outputs": [],
   "source": [
    "!traceroute google.com"
   ]
  },
  {
   "cell_type": "markdown",
   "metadata": {},
   "source": [
    "The traceroute command in linux/unix/mac (tracert in windows) gives you a list of locations on the way to google.com (google.com is the last one)"
   ]
  },
  {
   "cell_type": "code",
   "execution_count": null,
   "metadata": {
    "collapsed": true
   },
   "outputs": [],
   "source": []
  }
 ],
 "metadata": {
  "anaconda-cloud": {},
  "kernelspec": {
   "display_name": "Python 3",
   "language": "python",
   "name": "python3"
  },
  "language_info": {
   "codemirror_mode": {
    "name": "ipython",
    "version": 3
   },
   "file_extension": ".py",
   "mimetype": "text/x-python",
   "name": "python",
   "nbconvert_exporter": "python",
   "pygments_lexer": "ipython3",
   "version": "3.4.3"
  }
 },
 "nbformat": 4,
 "nbformat_minor": 0
}
