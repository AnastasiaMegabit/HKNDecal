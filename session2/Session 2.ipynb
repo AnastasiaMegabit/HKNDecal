{
 "cells": [
  {
   "cell_type": "code",
   "execution_count": null,
   "metadata": {
    "collapsed": false
   },
   "outputs": [],
   "source": [
    "from __future__ import print_function\n",
    "from IPython.display import Audio\n",
    "from scipy.misc import face\n",
    "from scipy.io import wavfile\n",
    "from scipy import signal\n",
    "from os.path import getsize\n",
    "import util\n",
    "%pylab inline"
   ]
  },
  {
   "cell_type": "markdown",
   "metadata": {},
   "source": [
    "# Section 1 - Images"
   ]
  },
  {
   "cell_type": "code",
   "execution_count": null,
   "metadata": {
    "collapsed": false
   },
   "outputs": [],
   "source": [
    "# For the following section, make a black and white chessboard\n",
    "\n",
    "# Feel free to modify the numbers below to change the colors\n",
    "data = np.array(\n",
    "    [\n",
    "        [0, 1, 0, 1, 0, 1, 0, 1],\n",
    "        [1, 0, 1, 0, 1, 0, 1, 0],\n",
    "        [0, 1, 0, 1, 0, 1, 0, 1],\n",
    "        [1, 0, 1, 0, 1, 0, 1, 0],\n",
    "        [0, 1, 0, 1, 0, 1, 0, 1],\n",
    "        [1, 0, 1, 0, 1, 0, 1, 0],\n",
    "        [0, 1, 0, 1, 0, 1, 0, 1],\n",
    "        [1, 0, 1, 0, 1, 0, 1, 0],\n",
    "    ],\n",
    "    dtype=np.bool\n",
    ")\n",
    "plt.imshow(data, cmap=\"gray\", interpolation='none')"
   ]
  },
  {
   "cell_type": "code",
   "execution_count": null,
   "metadata": {
    "collapsed": false
   },
   "outputs": [],
   "source": [
    "plt.imshow(face())\n",
    "# Notice that each \"item\" of the data grid is now 3 values\n",
    "# corresponding to Red, Green, and Blue values between 0 and 255\n",
    "# The code below prints the top left corner, in a 3x3 region\n",
    "print(face()[:3, :3, ...])"
   ]
  },
  {
   "cell_type": "markdown",
   "metadata": {},
   "source": [
    "# Section 2 - Audio"
   ]
  },
  {
   "cell_type": "markdown",
   "metadata": {},
   "source": [
    "Plays a simple A chord for 1 second"
   ]
  },
  {
   "cell_type": "code",
   "execution_count": null,
   "metadata": {
    "collapsed": false,
    "scrolled": false
   },
   "outputs": [],
   "source": [
    "frequencies = [440, 554.37, 659.25]\n",
    "samplerate = 44100\n",
    "\n",
    "samples = np.asarray([np.sin(np.linspace(0, 2 * np.pi * frequency, samplerate)) for frequency in frequencies])\n",
    "Audio(np.concatenate(list(samples) + [np.sum(samples, axis=0)]), rate=samplerate)"
   ]
  },
  {
   "cell_type": "code",
   "execution_count": null,
   "metadata": {
    "collapsed": true
   },
   "outputs": [],
   "source": [
    "datarate = samplerate\n",
    "data = np.sum(samples, axis=0)\n",
    "# data = samples[1]"
   ]
  },
  {
   "cell_type": "code",
   "execution_count": null,
   "metadata": {
    "collapsed": false,
    "scrolled": true
   },
   "outputs": [],
   "source": [
    "plt.plot(range(len(data)), data, label=\"Intensity\", alpha=0.3)\n",
    "plt.title(\"Time Domain Intensities\")\n",
    "plt.legend()"
   ]
  },
  {
   "cell_type": "markdown",
   "metadata": {},
   "source": [
    "To visualize the frequencies of the piece, we will convert 0.1s \"chunks\" of the song into the frequency domain."
   ]
  },
  {
   "cell_type": "code",
   "execution_count": null,
   "metadata": {
    "collapsed": false
   },
   "outputs": [],
   "source": [
    "plt.imshow(20*np.log10(util.to_chunks(data, 1, datarate))[:1000], interpolation=\"none\", aspect=\"auto\", cmap='spectral')"
   ]
  },
  {
   "cell_type": "markdown",
   "metadata": {
    "collapsed": false
   },
   "source": [
    "Now we can create a \"flat\" sounding rendition of a song using frequencies"
   ]
  },
  {
   "cell_type": "code",
   "execution_count": null,
   "metadata": {
    "collapsed": false
   },
   "outputs": [],
   "source": [
    "# Re-run me after modifying lullaby\n",
    "length = 256\n",
    "sampling_rate = 44100*16\n",
    "\n",
    "# Change this to change the number of beats per minute\n",
    "beats_per_minute = 100\n",
    "\n",
    "song = util.load_song(\"lullaby.txt\") # change the file name to whatever you created\n",
    "frequencies = util.song_to_frequencies(song)\n",
    "\n",
    "# Replace the names with the part names you chose\n",
    "song_parts = [\"melody\", \"harmony\", \"left_hand_high\", \"left_hand_low\"]\n",
    "song_data = sum(util.frequencies_to_stream(frequencies[name], sampling_rate, beats_per_minute) for name in song_parts)\n",
    "Audio(util.smooth(song_data, 256), rate=sampling_rate)"
   ]
  },
  {
   "cell_type": "code",
   "execution_count": null,
   "metadata": {
    "collapsed": false
   },
   "outputs": [],
   "source": [
    "# Re-run me after modifying lullaby\n",
    "\n",
    "sheet_music = np.log10(util.to_chunks(song_data, 1, datarate) + 0.001)[:120][::-1]\n",
    "plt.imshow(sheet_music, interpolation=\"none\", aspect=\"auto\", cmap='spectral')"
   ]
  },
  {
   "cell_type": "code",
   "execution_count": null,
   "metadata": {
    "collapsed": false
   },
   "outputs": [],
   "source": [
    "print(\"Sheet music size:\", song_data.nbytes, \"bytes\")\n",
    "print(\"Audio data size:\", getsize(\"lullaby.txt\"), \"bytes\")\n",
    "print(\"Total compression ratio:\", song_data.nbytes / float(getsize(\"lullaby.txt\")))"
   ]
  },
  {
   "cell_type": "markdown",
   "metadata": {},
   "source": [
    "Try modifying the file \"lullaby.txt\" with your own notes or writing your own file!\n",
    "\n",
    "Notes are written in standard notation (i.e. Bb3) means the third B-flat. Rests are written as N.\n",
    "\n",
    "Ab3 4 means play the third A-flat for 4 beats.\n",
    "\n",
    "Each part must have the same number of beats."
   ]
  },
  {
   "cell_type": "raw",
   "metadata": {},
   "source": [
    "[part_name_1]\n",
    "notes\n",
    "\n",
    "[part_name_2]\n",
    "notes"
   ]
  },
  {
   "cell_type": "markdown",
   "metadata": {},
   "source": [
    "Run the previous two sections of the notebook again, replacing \"melody\", \"harmony\" and the other names with your part names."
   ]
  },
  {
   "cell_type": "markdown",
   "metadata": {},
   "source": [
    "## Dictionary Based Encoding example"
   ]
  },
  {
   "cell_type": "code",
   "execution_count": null,
   "metadata": {
    "collapsed": false
   },
   "outputs": [],
   "source": [
    "dictionary = util.load_dictionary(\"dictionary.txt\")\n",
    "encoded = util.encode(\"Hello Johnny the Chicken\", dictionary)\n",
    "print(\"Encoded:\", encoded)\n",
    "decoded = util.decode(encoded, dictionary)\n",
    "print(\"Decoded:\", decoded)"
   ]
  },
  {
   "cell_type": "markdown",
   "metadata": {},
   "source": [
    "## Networking"
   ]
  },
  {
   "cell_type": "code",
   "execution_count": null,
   "metadata": {
    "collapsed": false
   },
   "outputs": [],
   "source": [
    "!traceroute google.com"
   ]
  },
  {
   "cell_type": "markdown",
   "metadata": {},
   "source": [
    "The traceroute command in linux/unix/mac (tracert in windows) gives you a list of locations on the way to google.com (google.com is the last one)"
   ]
  },
  {
   "cell_type": "code",
   "execution_count": null,
   "metadata": {
    "collapsed": true
   },
   "outputs": [],
   "source": []
  }
 ],
 "metadata": {
  "kernelspec": {
   "display_name": "Python 2",
   "language": "python",
   "name": "python2"
  },
  "language_info": {
   "codemirror_mode": {
    "name": "ipython",
    "version": 2
   },
   "file_extension": ".py",
   "mimetype": "text/x-python",
   "name": "python",
   "nbconvert_exporter": "python",
   "pygments_lexer": "ipython2",
   "version": "2.7.12"
  }
 },
 "nbformat": 4,
 "nbformat_minor": 0
}
