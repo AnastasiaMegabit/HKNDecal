{
 "cells": [
  {
   "cell_type": "code",
   "execution_count": 1,
   "metadata": {
    "collapsed": false
   },
   "outputs": [],
   "source": [
    "import deborahscript\n",
    "import utils"
   ]
  },
  {
   "cell_type": "markdown",
   "metadata": {},
   "source": [
    "## Simple GCD Program"
   ]
  },
  {
   "cell_type": "code",
   "execution_count": 2,
   "metadata": {
    "collapsed": false
   },
   "outputs": [
    {
     "name": "stdout",
     "output_type": "stream",
     "text": [
      "100\n",
      "73\n",
      "GCD is\n",
      "1\n"
     ]
    }
   ],
   "source": [
    "deborahscript.run(\"gcd.ds\")"
   ]
  },
  {
   "cell_type": "markdown",
   "metadata": {
    "collapsed": true
   },
   "source": [
    "## What sequence is this?"
   ]
  },
  {
   "cell_type": "code",
   "execution_count": 3,
   "metadata": {
    "collapsed": false
   },
   "outputs": [
    {
     "name": "stdout",
     "output_type": "stream",
     "text": [
      "15\n",
      "1307674368000\n"
     ]
    }
   ],
   "source": [
    "%%ds\n",
    "CAREFULLY x SAME (INTINPUT) CAT\n",
    "CAREFULLY a SAME (1) CAT\n",
    "DRINK (x) COFFEE\n",
    "    a SAME ((a) * (x)) CAT\n",
    "    x SAME ((x) - (1)) CAT\n",
    "CAT\n",
    "MEOW (a) CAT"
   ]
  },
  {
   "cell_type": "markdown",
   "metadata": {},
   "source": [
    "#### Factorial"
   ]
  },
  {
   "cell_type": "markdown",
   "metadata": {},
   "source": [
    "## Can you write Fibonacci?"
   ]
  },
  {
   "cell_type": "code",
   "execution_count": 4,
   "metadata": {
    "collapsed": false
   },
   "outputs": [
    {
     "name": "stdout",
     "output_type": "stream",
     "text": [
      "32\n",
      "2178309\n"
     ]
    }
   ],
   "source": [
    "%%ds\n",
    "CAREFULLY x SAME (INTINPUT) CAT\n",
    "CAREFULLY y SAME (2) CAT\n",
    "CAREFULLY table SAME (#) CAT\n",
    "(0)@table SAME (0) CAT\n",
    "(1)@table SAME (1) CAT\n",
    "DRINK ((x) > ((y) - (1))) COFFEE\n",
    "    (y)@table SAME ((((y) - (1))@(table)) + (((y) - (2))@(table))) CAT\n",
    "    y SAME ((y) + (1)) CAT\n",
    "CAT\n",
    "MEOW ((x)@(table)) CAT"
   ]
  },
  {
   "cell_type": "code",
   "execution_count": null,
   "metadata": {
    "collapsed": true
   },
   "outputs": [],
   "source": []
  }
 ],
 "metadata": {
  "kernelspec": {
   "display_name": "Python 2",
   "language": "python",
   "name": "python2"
  },
  "language_info": {
   "codemirror_mode": {
    "name": "ipython",
    "version": 2
   },
   "file_extension": ".py",
   "mimetype": "text/x-python",
   "name": "python",
   "nbconvert_exporter": "python",
   "pygments_lexer": "ipython2",
   "version": "2.7.12"
  }
 },
 "nbformat": 4,
 "nbformat_minor": 2
}
